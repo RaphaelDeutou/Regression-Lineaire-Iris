{
 "cells": [
  {
   "cell_type": "markdown",
   "metadata": {},
   "source": [
    "### Activité avancée Intervalles de confiance\n",
    "#### Exercice 1 : Sondage simplifié\n",
    "##### 1. Calculez la fréquence observée et interprétez-la.\n",
    "\n"
   ]
  },
  {
   "cell_type": "code",
   "execution_count": 39,
   "metadata": {},
   "outputs": [
    {
     "name": "stdout",
     "output_type": "stream",
     "text": [
      "La fréquence est :  0.58\n"
     ]
    }
   ],
   "source": [
    "import math\n",
    "\n",
    "taille = 100\n",
    "efectif_repondant = 58\n",
    "\n",
    "frequence = efectif_repondant / taille\n",
    "print(f\"La fréquence est : {frequence : .2f}\")\n"
   ]
  },
  {
   "cell_type": "markdown",
   "metadata": {},
   "source": [
    "##### 2. Vérifiez que les conditions d’application de l’intervalle de confiance pour une proportion sont satisfaites.\n"
   ]
  },
  {
   "cell_type": "code",
   "execution_count": 40,
   "metadata": {},
   "outputs": [
    {
     "name": "stdout",
     "output_type": "stream",
     "text": [
      "Les conditions d’application de l’intervalle de confiance pour une proportion sont satisfaites.\n"
     ]
    }
   ],
   "source": [
    "# Vérification des conditions d'approximation normale\n",
    "\n",
    "np = 100 * frequence\n",
    "n1p = 100 * (1-frequence) \n",
    "if np >= 5 and n1p >= 5:\n",
    "    print (\"Les conditions d’application de l’intervalle de confiance pour une proportion sont satisfaites.\")\n",
    "else:\n",
    "    print(\"Les conditions d’application de l’intervalle de confiance pour une proportion ne sont pas satisfaites.\", np, n1p)"
   ]
  },
  {
   "cell_type": "markdown",
   "metadata": {},
   "source": [
    "#### 3. Calcul de l’intervalle de confiance à 95%\n"
   ]
  },
  {
   "cell_type": "code",
   "execution_count": 41,
   "metadata": {},
   "outputs": [
    {
     "name": "stdout",
     "output_type": "stream",
     "text": [
      "Intervalle de confiance à 95% : [0.483 ; 0.677]\n",
      "4. Nous sommes confiants à 95% que la proportion réelle de personnes favorables dans la population se situe entre 48.3% et 67.7%.\n"
     ]
    }
   ],
   "source": [
    "from scipy.stats import norm\n",
    "\n",
    "alpha = 1-0.95\n",
    "z = norm.ppf(1-alpha/2) \n",
    "\n",
    "marge_erreur = z * math.sqrt((frequence* (1 - frequence)) / taille)\n",
    "\n",
    "borne_inf = frequence - marge_erreur\n",
    "borne_sup = frequence + marge_erreur\n",
    "\n",
    "print(f\"Intervalle de confiance à 95% : [{borne_inf:.3f} ; {borne_sup:.3f}]\")\n",
    "\n",
    "print(f\"4. Nous sommes confiants à 95% que la proportion réelle de personnes favorables \"\n",
    "      f\"dans la population se situe entre {borne_inf*100:.1f}% et {borne_sup*100:.1f}%.\")\n"
   ]
  },
  {
   "cell_type": "markdown",
   "metadata": {},
   "source": [
    "#### Exercice 2 : Estimation d’une moyenne\n"
   ]
  },
  {
   "cell_type": "markdown",
   "metadata": {},
   "source": [
    "##### 1. Calculer l’erreur standard de la moyenne (c’est-à-dire ).\n"
   ]
  },
  {
   "cell_type": "code",
   "execution_count": 42,
   "metadata": {},
   "outputs": [
    {
     "name": "stdout",
     "output_type": "stream",
     "text": [
      "l'erreur standard de la moyenne est :  0.465\n"
     ]
    }
   ],
   "source": [
    "n = 40\n",
    "ecart_type = 1.5\n",
    "moyenne = 10\n",
    "\n",
    "erreur_standard = 1.96 * (ecart_type / math.sqrt(n))\n",
    "print(f\"l'erreur standard de la moyenne est : {erreur_standard : .3f}\")"
   ]
  },
  {
   "cell_type": "markdown",
   "metadata": {},
   "source": [
    "#####  déduire l’intervalle de confiance à 95% "
   ]
  },
  {
   "cell_type": "code",
   "execution_count": 43,
   "metadata": {},
   "outputs": [
    {
     "name": "stdout",
     "output_type": "stream",
     "text": [
      "4. Nous sommes confiants à 95% que la proportion réelle de la durée de vie des battéries dans la population se situe entre 9.5% et 10.5%.\n"
     ]
    }
   ],
   "source": [
    "born_inf = moyenne - erreur_standard\n",
    "born_sup = moyenne + erreur_standard\n",
    "\n",
    "print(f\"4. Nous sommes confiants à 95% que la proportion réelle de la durée de vie des battéries \"\n",
    "      f\"dans la population se situe entre {born_inf:.1f}% et {born_sup:.1f}%.\")"
   ]
  },
  {
   "cell_type": "markdown",
   "metadata": {},
   "source": [
    "#### Exercice 3 : Validité de l’approximation\n",
    "##### 1. Expliquez pourquoi, dans ce cas, on ne peut pas calculer un intervalle deconfiance 95% fiable avec la formule usuelle ."
   ]
  },
  {
   "cell_type": "markdown",
   "metadata": {},
   "source": [
    "##### Parce que la population n'est pas normale car n<5"
   ]
  },
  {
   "cell_type": "markdown",
   "metadata": {},
   "source": [
    "#### Exercice 4 : Sondage électoral\n"
   ]
  },
  {
   "cell_type": "markdown",
   "metadata": {},
   "source": [
    "##### 1. Calculez la proportion observée de personnes prêtes à voter pour la candidate A.\n"
   ]
  },
  {
   "cell_type": "code",
   "execution_count": 44,
   "metadata": {},
   "outputs": [
    {
     "name": "stdout",
     "output_type": "stream",
     "text": [
      "La proportion est de :  0.54\n"
     ]
    }
   ],
   "source": [
    "proportion = 270 / 500\n",
    "print(f\"La proportion est de : {proportion : .2f}\")"
   ]
  },
  {
   "cell_type": "markdown",
   "metadata": {},
   "source": [
    "##### 2. Calculez l’intervalle de confiance à 95% de cette proportion dans la population électorale.\n"
   ]
  },
  {
   "cell_type": "code",
   "execution_count": 45,
   "metadata": {},
   "outputs": [
    {
     "name": "stdout",
     "output_type": "stream",
     "text": [
      "L'intervalle de confiance est entre :  49.63 et  58.37\n"
     ]
    }
   ],
   "source": [
    "votant = 500\n",
    "marge_error = 1.96 * math.sqrt((proportion* (1 - proportion)) / votant)\n",
    "min_value = proportion - marge_error\n",
    "max_value = proportion + marge_error\n",
    "\n",
    "print(f\"L'intervalle de confiance est entre : {min_value*100 : .2f} et {max_value*100 : .2f}\")"
   ]
  },
  {
   "cell_type": "markdown",
   "metadata": {},
   "source": [
    "##### 3. Calculez l’intervalle de confiance à 99% pour la même proportion.\n"
   ]
  },
  {
   "cell_type": "code",
   "execution_count": 46,
   "metadata": {},
   "outputs": [
    {
     "name": "stdout",
     "output_type": "stream",
     "text": [
      "L'intervalle de confiance est entre :  48.26 et  59.74\n"
     ]
    }
   ],
   "source": [
    "alpha_99 = 1- 0.99\n",
    "z_99 = norm.ppf(1-alpha_99/2)\n",
    "marge_error_99 = z_99 * math.sqrt((proportion* (1 - proportion)) / votant)\n",
    "low_value = proportion - marge_error_99\n",
    "high_value = proportion + marge_error_99\n",
    "\n",
    "print(f\"L'intervalle de confiance est entre : {low_value*100 : .2f} et {high_value*100 : .2f}\")"
   ]
  },
  {
   "cell_type": "markdown",
   "metadata": {},
   "source": [
    "#### Exercice 5 (avancé) : Données de poids de naissance\n"
   ]
  },
  {
   "cell_type": "markdown",
   "metadata": {},
   "source": [
    "##### 1. Calculez la moyenne et l’écart-type de cet échantillon (en kg).\n"
   ]
  },
  {
   "cell_type": "code",
   "execution_count": 53,
   "metadata": {},
   "outputs": [
    {
     "name": "stdout",
     "output_type": "stream",
     "text": [
      "la moyenne est :  3.25\n",
      "l'écart-type est :  0.32\n"
     ]
    }
   ],
   "source": [
    "import numpy \n",
    "poids = [3.1 , 2.9 , 3.5 , 3.8 , 2.7 , 3.3 , 3.0 , 3.6 , 3.4 , 3.2]\n",
    "mean = numpy.mean(poids)\n",
    "print(\"la moyenne est : \" , mean)\n",
    "ecart_type_poids = numpy.std(poids)\n",
    "print(f\"l'écart-type est : {ecart_type_poids: .2f}\")\n"
   ]
  },
  {
   "cell_type": "markdown",
   "metadata": {},
   "source": [
    "#### Construisons l'intervalle de confiance"
   ]
  },
  {
   "cell_type": "code",
   "execution_count": 57,
   "metadata": {},
   "outputs": [
    {
     "name": "stdout",
     "output_type": "stream",
     "text": [
      "Intervalle de confiance à 95% : [3.02 ; 3.48] kg\n",
      "Avec 95% de confiance, le poids moyen des nouveau-nés dans cet hôpital se situe entre 3.02 kg et 3.48 kg.\n"
     ]
    }
   ],
   "source": [
    "import scipy.stats as stats\n",
    "\n",
    "alpha = 0.05  # Niveau de risque (5%)\n",
    "ddl = 10 - 1   # Degrés de liberté\n",
    "t_value = stats.t.ppf(1 - alpha/2, ddl)  # Valeur critique de Student à 95% pour n-1 degrés de liberté\n",
    "\n",
    "# Calcul de la marge d'erreur\n",
    "marge_erreur_poids = t_value * (ecart_type_poids / numpy.sqrt(10))\n",
    "\n",
    "# Calcul des bornes de l'intervalle\n",
    "borne_inf_poids = mean - marge_erreur_poids\n",
    "borne_sup_poids = mean + marge_erreur_poids\n",
    "\n",
    "print(f\"Intervalle de confiance à 95% : [{borne_inf_poids:.2f} ; {borne_sup_poids:.2f}] kg\")\n",
    "\n",
    "# 3. Interprétation\n",
    "print(f\"Avec 95% de confiance, le poids moyen des nouveau-nés dans cet hôpital se situe entre {borne_inf_poids:.2f} kg et {borne_sup_poids:.2f} kg.\")"
   ]
  },
  {
   "cell_type": "markdown",
   "metadata": {},
   "source": []
  }
 ],
 "metadata": {
  "kernelspec": {
   "display_name": "Python 3",
   "language": "python",
   "name": "python3"
  },
  "language_info": {
   "codemirror_mode": {
    "name": "ipython",
    "version": 3
   },
   "file_extension": ".py",
   "mimetype": "text/x-python",
   "name": "python",
   "nbconvert_exporter": "python",
   "pygments_lexer": "ipython3",
   "version": "3.12.8"
  }
 },
 "nbformat": 4,
 "nbformat_minor": 2
}
